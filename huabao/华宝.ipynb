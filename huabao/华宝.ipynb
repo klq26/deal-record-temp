{
 "cells": [
  {
   "cell_type": "code",
   "execution_count": 41,
   "metadata": {},
   "outputs": [],
   "source": [
    "import json\n",
    "import pandas as pd\n",
    "import numpy as np\n",
    "from matplotlib import pyplot as plt"
   ]
  },
  {
   "cell_type": "code",
   "execution_count": 3,
   "metadata": {
    "code_folding": [],
    "scrolled": true
   },
   "outputs": [],
   "source": [
    "# 读取输入数据\n",
    "df_raw = pd.read_excel('华宝证券.xlsx', dtype={'成交日期': np.object, '证券代码': np.object, '印花税': np.float64, '过户费': np.float64, '成交费': np.float64, '委托编号': np.object})"
   ]
  },
  {
   "cell_type": "code",
   "execution_count": 9,
   "metadata": {
    "code_folding": [],
    "scrolled": false
   },
   "outputs": [],
   "source": [
    "# 读取分类表\n",
    "df_category = pd.read_excel('资产配置分类表.xlsx',dtype={'基金代码': np.object, '分类ID': np.int64})\n",
    "# df_category\n",
    "# 基金名称\t基金简称\t基金代码\t一级分类\t二级分类\t三级分类\t分类ID\t市场"
   ]
  },
  {
   "cell_type": "code",
   "execution_count": 44,
   "metadata": {
    "code_folding": [],
    "scrolled": false
   },
   "outputs": [
    {
     "name": "stdout",
     "output_type": "stream",
     "text": [
      "{'id': 1, 'date': '2020-02-03', 'time': '09:53:57', 'code': '162411', 'name': '华宝油气', 'deal_type': '买入', 'nav_unit': 0.36, 'nav_acc': 0.36, 'volume': 35500.0, 'deal_money': 12780.0, 'fee': 1.28, 'occur_money': 12781.28, 'account': '华宝证券', 'category1': '商品', 'category2': '商品', 'category3': '原油', 'category_id': 613, 'note': '无'}\n",
      "{'id': 2, 'date': '2020-02-03', 'time': '11:26:14', 'code': '515180', 'name': '100红利', 'deal_type': '买入', 'nav_unit': 0.906, 'nav_acc': 0.906, 'volume': 2700.0, 'deal_money': 2446.2, 'fee': 0.24, 'occur_money': 2446.44, 'account': '华宝证券', 'category1': 'A 股', 'category2': '红利价值', 'category3': '中证红利', 'category_id': 131, 'note': '无'}\n",
      "{'id': 3, 'date': '2020-02-10', 'time': '09:59:08', 'code': '515180', 'name': '100红利', 'deal_type': '卖出', 'nav_unit': 0.957, 'nav_acc': 0.957, 'volume': 2400.0, 'deal_money': 2296.8, 'fee': 0.23, 'occur_money': 2296.57, 'account': '华宝证券', 'category1': 'A 股', 'category2': '红利价值', 'category3': '中证红利', 'category_id': 131, 'note': '无'}\n",
      "{'id': 4, 'date': '2020-02-28', 'time': '09:30:40', 'code': '159920', 'name': '恒生ETF', 'deal_type': '买入', 'nav_unit': 1.446, 'nav_acc': 1.446, 'volume': 1700.0, 'deal_money': 2458.2, 'fee': 0.25, 'occur_money': 2458.45, 'account': '华宝证券', 'category1': '海外新兴', 'category2': '香港', 'category3': '恒生', 'category_id': 211, 'note': '无'}\n",
      "{'id': 5, 'date': '2020-03-09', 'time': '09:39:44', 'code': '159920', 'name': '恒生ETF', 'deal_type': '买入', 'nav_unit': 1.384, 'nav_acc': 1.384, 'volume': 1800.0, 'deal_money': 2491.2, 'fee': 0.25, 'occur_money': 2491.45, 'account': '华宝证券', 'category1': '海外新兴', 'category2': '香港', 'category3': '恒生', 'category_id': 211, 'note': '无'}\n",
      "{'id': 6, 'date': '2020-03-11', 'time': '13:41:39', 'code': '513520', 'name': '日经ETF', 'deal_type': '买入', 'nav_unit': 0.969, 'nav_acc': 0.969, 'volume': 2600.0, 'deal_money': 2519.4, 'fee': 0.25, 'occur_money': 2519.65, 'account': '华宝证券', 'category1': '海外成熟', 'category2': '日本', 'category3': '日经225', 'category_id': 331, 'note': '无'}\n",
      "{'id': 7, 'date': '2020-03-12', 'time': '10:05:12', 'code': '162411', 'name': '华宝油气', 'deal_type': '卖出', 'nav_unit': 0.238, 'nav_acc': 0.238, 'volume': 35500.0, 'deal_money': 8449.0, 'fee': 0.84, 'occur_money': 8448.16, 'account': '华宝证券', 'category1': '商品', 'category2': '商品', 'category3': '原油', 'category_id': 613, 'note': '无'}\n",
      "{'id': 8, 'date': '2020-03-16', 'time': '00:00:00', 'code': '160416', 'name': '石油基金', 'deal_type': '买入', 'nav_unit': 0.608, 'nav_acc': 0.608, 'volume': 13896.0, 'deal_money': 8448.77, 'fee': 0.0, 'occur_money': 8448.77, 'account': '华宝证券', 'category1': '商品', 'category2': '商品', 'category3': '原油', 'category_id': 613, 'note': '无'}\n",
      "{'id': 9, 'date': '2020-03-17', 'time': '09:59:01', 'code': '513520', 'name': '日经ETF', 'deal_type': '买入', 'nav_unit': 0.825, 'nav_acc': 0.825, 'volume': 3000.0, 'deal_money': 2475.0, 'fee': 0.25, 'occur_money': 2475.25, 'account': '华宝证券', 'category1': '海外成熟', 'category2': '日本', 'category3': '日经225', 'category_id': 331, 'note': '无'}\n",
      "{'id': 10, 'date': '2020-03-19', 'time': '09:53:52', 'code': '159920', 'name': '恒生ETF', 'deal_type': '买入', 'nav_unit': 1.243, 'nav_acc': 1.243, 'volume': 2000.0, 'deal_money': 2486.0, 'fee': 0.25, 'occur_money': 2486.25, 'account': '华宝证券', 'category1': '海外新兴', 'category2': '香港', 'category3': '恒生', 'category_id': 211, 'note': '无'}\n",
      "{'id': 11, 'date': '2020-03-19', 'time': '09:55:44', 'code': '513520', 'name': '日经ETF', 'deal_type': '买入', 'nav_unit': 0.813, 'nav_acc': 0.813, 'volume': 3100.0, 'deal_money': 2520.3, 'fee': 0.25, 'occur_money': 2520.55, 'account': '华宝证券', 'category1': '海外成熟', 'category2': '日本', 'category3': '日经225', 'category_id': 331, 'note': '无'}\n",
      "{'id': 12, 'date': '2020-03-19', 'time': '10:10:37', 'code': '513520', 'name': '日经ETF', 'deal_type': '买入', 'nav_unit': 0.807, 'nav_acc': 0.807, 'volume': 6200.0, 'deal_money': 5003.4, 'fee': 0.5, 'occur_money': 5003.9, 'account': '华宝证券', 'category1': '海外成熟', 'category2': '日本', 'category3': '日经225', 'category_id': 331, 'note': '无'}\n",
      "{'id': 13, 'date': '2020-03-19', 'time': '10:19:06', 'code': '159920', 'name': '恒生ETF', 'deal_type': '买入', 'nav_unit': 1.234, 'nav_acc': 1.234, 'volume': 4100.0, 'deal_money': 5059.4, 'fee': 0.51, 'occur_money': 5059.91, 'account': '华宝证券', 'category1': '海外新兴', 'category2': '香港', 'category3': '恒生', 'category_id': 211, 'note': '无'}\n",
      "{'id': 14, 'date': '2020-03-19', 'time': '10:58:35', 'code': '515180', 'name': '100红利', 'deal_type': '买入', 'nav_unit': 0.906, 'nav_acc': 0.906, 'volume': 2700.0, 'deal_money': 2446.2, 'fee': 0.24, 'occur_money': 2446.44, 'account': '华宝证券', 'category1': 'A 股', 'category2': '红利价值', 'category3': '中证红利', 'category_id': 131, 'note': '无'}\n",
      "{'id': 15, 'date': '2020-03-25', 'time': '09:31:15', 'code': '513520', 'name': '日经ETF', 'deal_type': '卖出', 'nav_unit': 0.874, 'nav_acc': 0.874, 'volume': 2900.0, 'deal_money': 2534.6, 'fee': 0.25, 'occur_money': 2534.35, 'account': '华宝证券', 'category1': '海外成熟', 'category2': '日本', 'category3': '日经225', 'category_id': 331, 'note': '无'}\n",
      "{'id': 16, 'date': '2020-04-08', 'time': '13:18:53', 'code': '513520', 'name': '日经ETF', 'deal_type': '卖出', 'nav_unit': 0.923, 'nav_acc': 0.923, 'volume': 3000.0, 'deal_money': 2769.0, 'fee': 0.28, 'occur_money': 2768.72, 'account': '华宝证券', 'category1': '海外成熟', 'category2': '日本', 'category3': '日经225', 'category_id': 331, 'note': '无'}\n",
      "{'id': 17, 'date': '2020-04-10', 'time': '14:56:23', 'code': '512580', 'name': '环保ETF', 'deal_type': '买入', 'nav_unit': 0.754, 'nav_acc': 0.754, 'volume': 3300.0, 'deal_money': 2488.2, 'fee': 0.25, 'occur_money': 2488.45, 'account': '华宝证券', 'category1': 'A 股', 'category2': '行业股', 'category3': '中证环保', 'category_id': 143, 'note': '无'}\n",
      "{'id': 18, 'date': '2020-04-10', 'time': '14:54:07', 'code': '512980', 'name': '传媒ETF', 'deal_type': '买入', 'nav_unit': 0.808, 'nav_acc': 0.808, 'volume': 3100.0, 'deal_money': 2504.8, 'fee': 0.25, 'occur_money': 2505.05, 'account': '华宝证券', 'category1': 'A 股', 'category2': '行业股', 'category3': '中证传媒', 'category_id': 144, 'note': '无'}\n",
      "{'id': 19, 'date': '2020-04-17', 'time': '09:46:31', 'code': '512980', 'name': '传媒ETF', 'deal_type': '卖出', 'nav_unit': 0.833, 'nav_acc': 0.833, 'volume': 2900.0, 'deal_money': 2415.7, 'fee': 0.24, 'occur_money': 2415.46, 'account': '华宝证券', 'category1': 'A 股', 'category2': '行业股', 'category3': '中证传媒', 'category_id': 144, 'note': '无'}\n",
      "{'id': 20, 'date': '2020-04-27', 'time': '14:47:32', 'code': '159920', 'name': '恒生ETF', 'deal_type': '卖出', 'nav_unit': 1.358, 'nav_acc': 1.358, 'volume': 6100.0, 'deal_money': 8283.8, 'fee': 0.83, 'occur_money': 8282.97, 'account': '华宝证券', 'category1': '海外新兴', 'category2': '香港', 'category3': '恒生', 'category_id': 211, 'note': '无'}\n",
      "{'id': 21, 'date': '2020-04-27', 'time': '14:57:57', 'code': '513520', 'name': '日经ETF', 'deal_type': '卖出', 'nav_unit': 0.955, 'nav_acc': 0.955, 'volume': 6000.0, 'deal_money': 5730.0, 'fee': 0.57, 'occur_money': 5729.43, 'account': '华宝证券', 'category1': '海外成熟', 'category2': '日本', 'category3': '日经225', 'category_id': 331, 'note': '无'}\n",
      "{'id': 22, 'date': '2020-04-28', 'time': '09:30:52', 'code': '510500', 'name': '500ETF', 'deal_type': '买入', 'nav_unit': 5.697, 'nav_acc': 5.697, 'volume': 8800.0, 'deal_money': 50133.6, 'fee': 5.01, 'occur_money': 50138.61, 'account': '华宝证券', 'category1': 'A 股', 'category2': '中小盘股', 'category3': '中证500', 'category_id': 121, 'note': '无'}\n",
      "{'id': 23, 'date': '2020-04-28', 'time': '09:57:07', 'code': '512980', 'name': '传媒ETF', 'deal_type': '买入', 'nav_unit': 0.788, 'nav_acc': 0.788, 'volume': 3100.0, 'deal_money': 2442.8, 'fee': 0.24, 'occur_money': 2443.04, 'account': '华宝证券', 'category1': 'A 股', 'category2': '行业股', 'category3': '中证传媒', 'category_id': 144, 'note': '无'}\n",
      "{'id': 24, 'date': '2020-04-28', 'time': '10:02:11', 'code': '510500', 'name': '500ETF', 'deal_type': '买入', 'nav_unit': 5.556, 'nav_acc': 5.556, 'volume': 4100.0, 'deal_money': 22779.6, 'fee': 2.28, 'occur_money': 22781.88, 'account': '华宝证券', 'category1': 'A 股', 'category2': '中小盘股', 'category3': '中证500', 'category_id': 121, 'note': '无'}\n",
      "{'id': 25, 'date': '2020-04-29', 'time': '00:00:00', 'code': '501018', 'name': '南方原油', 'deal_type': '买入', 'nav_unit': 0.7162, 'nav_acc': 0.7162, 'volume': 8925.0, 'deal_money': 6392.09, 'fee': 0.0, 'occur_money': 6392.09, 'account': '华宝证券', 'category1': '商品', 'category2': '商品', 'category3': '原油', 'category_id': 613, 'note': '无'}\n",
      "{'id': 26, 'date': '2020-04-29', 'time': '00:00:00', 'code': '501018', 'name': '南方原油', 'deal_type': '买入', 'nav_unit': 0.7162, 'nav_acc': 0.7162, 'volume': 2324.77, 'deal_money': 1665.0, 'fee': 0.0, 'occur_money': 1665.0, 'account': '华宝证券', 'category1': '商品', 'category2': '商品', 'category3': '原油', 'category_id': 613, 'note': '无'}\n",
      "{'id': 27, 'date': '2020-04-30', 'time': '09:53:05', 'code': '515180', 'name': '100红利', 'deal_type': '卖出', 'nav_unit': 0.954, 'nav_acc': 0.954, 'volume': 2600.0, 'deal_money': 2480.4, 'fee': 0.25, 'occur_money': 2480.15, 'account': '华宝证券', 'category1': 'A 股', 'category2': '红利价值', 'category3': '中证红利', 'category_id': 131, 'note': '无'}\n",
      "{'id': 28, 'date': '2020-05-06', 'time': '11:16:20', 'code': '501018', 'name': '南方原油', 'deal_type': '卖出', 'nav_unit': 0.691, 'nav_acc': 0.691, 'volume': 11249.0, 'deal_money': 7773.06, 'fee': 0.78, 'occur_money': 7772.28, 'account': '华宝证券', 'category1': '商品', 'category2': '商品', 'category3': '原油', 'category_id': 613, 'note': '无'}\n",
      "{'id': 29, 'date': '2020-05-19', 'time': '09:31:36', 'code': '510500', 'name': '500ETF', 'deal_type': '买入', 'nav_unit': 5.977, 'nav_acc': 5.977, 'volume': 1800.0, 'deal_money': 10758.6, 'fee': 1.08, 'occur_money': 10759.68, 'account': '华宝证券', 'category1': 'A 股', 'category2': '中小盘股', 'category3': '中证500', 'category_id': 121, 'note': '无'}\n",
      "{'id': 30, 'date': '2020-05-22', 'time': '10:35:46', 'code': '510500', 'name': '500ETF', 'deal_type': '买入', 'nav_unit': 5.85, 'nav_acc': 5.85, 'volume': 1800.0, 'deal_money': 10530.0, 'fee': 1.05, 'occur_money': 10531.05, 'account': '华宝证券', 'category1': 'A 股', 'category2': '中小盘股', 'category3': '中证500', 'category_id': 121, 'note': '无'}\n",
      "{'id': 31, 'date': '2020-05-22', 'time': '13:03:48', 'code': '159920', 'name': '恒生ETF', 'deal_type': '买入', 'nav_unit': 1.314, 'nav_acc': 1.314, 'volume': 1800.0, 'deal_money': 2365.2, 'fee': 0.24, 'occur_money': 2365.44, 'account': '华宝证券', 'category1': '海外新兴', 'category2': '香港', 'category3': '恒生', 'category_id': 211, 'note': '无'}\n",
      "{'id': 32, 'date': '2020-05-26', 'time': '09:31:18', 'code': '513520', 'name': '日经ETF', 'deal_type': '卖出', 'nav_unit': 1.02, 'nav_acc': 1.02, 'volume': 2400.0, 'deal_money': 2448.0, 'fee': 0.24, 'occur_money': 2447.76, 'account': '华宝证券', 'category1': '海外成熟', 'category2': '日本', 'category3': '日经225', 'category_id': 331, 'note': '无'}\n",
      "{'id': 33, 'date': '2020-05-27', 'time': '10:18:41', 'code': '510500', 'name': '500ETF', 'deal_type': '买入', 'nav_unit': 5.839, 'nav_acc': 5.839, 'volume': 900.0, 'deal_money': 5255.1, 'fee': 0.53, 'occur_money': 5255.63, 'account': '华宝证券', 'category1': 'A 股', 'category2': '中小盘股', 'category3': '中证500', 'category_id': 121, 'note': '无'}\n",
      "{'id': 34, 'date': '2020-05-27', 'time': '14:28:35', 'code': '510500', 'name': '500ETF', 'deal_type': '买入', 'nav_unit': 5.81, 'nav_acc': 5.81, 'volume': 900.0, 'deal_money': 5229.0, 'fee': 0.52, 'occur_money': 5229.52, 'account': '华宝证券', 'category1': 'A 股', 'category2': '中小盘股', 'category3': '中证500', 'category_id': 121, 'note': '无'}\n",
      "{'id': 35, 'date': '2020-06-04', 'time': '09:30:15', 'code': '159920', 'name': '恒生ETF', 'deal_type': '卖出', 'nav_unit': 1.387, 'nav_acc': 1.387, 'volume': 1800.0, 'deal_money': 2496.6, 'fee': 0.25, 'occur_money': 2496.35, 'account': '华宝证券', 'category1': '海外新兴', 'category2': '香港', 'category3': '恒生', 'category_id': 211, 'note': '无'}\n",
      "{'id': 36, 'date': '2020-07-24', 'time': '13:49:40', 'code': '159920', 'name': '恒生ETF', 'deal_type': '买入', 'nav_unit': 1.384, 'nav_acc': 1.384, 'volume': 1800.0, 'deal_money': 2491.2, 'fee': 0.25, 'occur_money': 2491.45, 'account': '华宝证券', 'category1': '海外新兴', 'category2': '香港', 'category3': '恒生', 'category_id': 211, 'note': '无'}\n"
     ]
    },
    {
     "data": {
      "text/plain": [
       "[None,\n",
       " None,\n",
       " None,\n",
       " None,\n",
       " None,\n",
       " None,\n",
       " None,\n",
       " None,\n",
       " None,\n",
       " None,\n",
       " None,\n",
       " None,\n",
       " None,\n",
       " None,\n",
       " None,\n",
       " None,\n",
       " None,\n",
       " None,\n",
       " None,\n",
       " None,\n",
       " None,\n",
       " None,\n",
       " None,\n",
       " None,\n",
       " None,\n",
       " None,\n",
       " None,\n",
       " None,\n",
       " None,\n",
       " None,\n",
       " None,\n",
       " None,\n",
       " None,\n",
       " None,\n",
       " None,\n",
       " None]"
      ]
     },
     "execution_count": 44,
     "metadata": {},
     "output_type": "execute_result"
    }
   ],
   "source": [
    "# 按输出要求，调整数据表\n",
    "\n",
    "def occur_money_calc(x):\n",
    "#     print(x, type(x))\n",
    "    if x['委托类别'] == '买入':\n",
    "        return round(x['发生金额'] + x['fee'], 2)\n",
    "    elif x['委托类别'] == '卖出':\n",
    "        return round(x['发生金额'] - x['fee'], 2)\n",
    "    pass\n",
    "\n",
    "ignore_codes = ['799999']\n",
    "\n",
    "# 调整输出\n",
    "df_temp = df_raw[~df_raw['证券代码'].isin(ignore_codes)].copy()\n",
    "df_temp = df_temp.reset_index()\n",
    "df_temp['id'] = df_temp.index + 1\n",
    "df_temp['date'] = df_temp['成交日期'].apply(lambda x: x[0:4]+'-'+x[4:6]+'-'+x[6:8])\n",
    "df_temp['nav_acc'] = df_temp['成交价格']\n",
    "df_temp['account'] = '华宝证券'\n",
    "df_temp['note'] = '无'\n",
    "df_temp['fee'] = df_temp['佣金'] + df_temp['印花税'] + df_temp['过户费'] + df_temp['成交费']\n",
    "# '基金申购','托管转入' 都视为买入操作\n",
    "df_temp = df_temp.replace(['基金申购','托管转入'], ['买入','买入'])\n",
    "df_temp['occur_money'] = df_temp.apply(occur_money_calc, axis=1)\n",
    "# 补充一二三级分类\n",
    "df_temp = pd.merge(df_temp, df_category, left_on='证券代码', right_on='基金代码', how='left')\n",
    "df_temp = df_temp.rename(columns={'成交时间':'time', '证券代码':'code', '证券名称':'name',\n",
    "                                  '委托类别':'deal_type', '成交价格': 'nav_unit', '成交数量': 'volume',\n",
    "                                  '发生金额': 'deal_money', '成本总计': 'fee', '一级分类': 'category1', \n",
    "                                  '二级分类': 'category2',  '三级分类': 'category3',  '分类ID': 'category_id', \n",
    "                                  '备注': 'note'})\n",
    "\n",
    "df_temp = df_temp[['id','date','time','code','name','deal_type','nav_unit','nav_acc','volume','deal_money','fee','occur_money','account','category1','category2','category3','category_id','note']]\n",
    "# 输出 csv 文件\n",
    "df_temp.to_csv('huabao_output.csv')\n",
    "# 输出 json 数据\n",
    "json_list = json.loads(df_temp.to_json(orient='records', force_ascii=False))\n",
    "[print(x) for x in json_list]\n",
    "\n",
    "# TODO 看看是否有除了 “买入” 和 “卖出”之外的操作\n",
    "# print(df_temp.deal_type.unique())"
   ]
  }
 ],
 "metadata": {
  "kernelspec": {
   "display_name": "Python 3",
   "language": "python",
   "name": "python3"
  },
  "language_info": {
   "codemirror_mode": {
    "name": "ipython",
    "version": 3
   },
   "file_extension": ".py",
   "mimetype": "text/x-python",
   "name": "python",
   "nbconvert_exporter": "python",
   "pygments_lexer": "ipython3",
   "version": "3.7.3"
  },
  "toc": {
   "base_numbering": 1,
   "nav_menu": {},
   "number_sections": true,
   "sideBar": true,
   "skip_h1_title": false,
   "title_cell": "Table of Contents",
   "title_sidebar": "Contents",
   "toc_cell": false,
   "toc_position": {},
   "toc_section_display": true,
   "toc_window_display": false
  }
 },
 "nbformat": 4,
 "nbformat_minor": 2
}
