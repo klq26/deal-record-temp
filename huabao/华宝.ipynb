{
 "cells": [
  {
   "cell_type": "code",
   "execution_count": 1,
   "metadata": {},
   "outputs": [],
   "source": [
    "import json\n",
    "import pandas as pd\n",
    "import numpy as np\n",
    "from matplotlib import pyplot as plt"
   ]
  },
  {
   "cell_type": "code",
   "execution_count": 2,
   "metadata": {
    "code_folding": [],
    "scrolled": true
   },
   "outputs": [],
   "source": [
    "# 读取输入数据\n",
    "df_raw = pd.read_excel('华宝证券.xlsx', dtype={'成交日期': np.object, '证券代码': np.object, '印花税': np.float64, '过户费': np.float64, '成交费': np.float64, '委托编号': np.object})"
   ]
  },
  {
   "cell_type": "code",
   "execution_count": 3,
   "metadata": {
    "code_folding": [],
    "scrolled": false
   },
   "outputs": [],
   "source": [
    "# 读取分类表\n",
    "df_category = pd.read_excel('资产配置分类表.xlsx',dtype={'基金代码': np.object, '分类ID': np.int64})\n",
    "# df_category\n",
    "# 基金名称\t基金简称\t基金代码\t一级分类\t二级分类\t三级分类\t分类ID\t市场"
   ]
  },
  {
   "cell_type": "code",
   "execution_count": 4,
   "metadata": {
    "code_folding": [],
    "scrolled": false
   },
   "outputs": [],
   "source": [
    "# 按输出要求，调整数据表\n",
    "\n",
    "def occur_money_calc(x):\n",
    "#     print(x, type(x))\n",
    "    if x['委托类别'] == '买入':\n",
    "        return round(x['发生金额'] + x['fee'], 2)\n",
    "    elif x['委托类别'] == '卖出':\n",
    "        return round(x['发生金额'] - x['fee'], 2)\n",
    "    pass\n",
    "\n",
    "ignore_codes = ['799999']\n",
    "\n",
    "# 调整输出\n",
    "df_temp = df_raw[~df_raw['证券代码'].isin(ignore_codes)].copy()\n",
    "df_temp = df_temp.reset_index()\n",
    "df_temp['id'] = df_temp.index + 1\n",
    "df_temp['date'] = df_temp['成交日期'].apply(lambda x: x[0:4]+'-'+x[4:6]+'-'+x[6:8])\n",
    "df_temp['nav_acc'] = df_temp['成交价格']\n",
    "df_temp['account'] = '华宝证券'\n",
    "df_temp['note'] = '无'\n",
    "df_temp['fee'] = df_temp['佣金'] + df_temp['印花税'] + df_temp['过户费'] + df_temp['成交费']\n",
    "# '基金申购','托管转入' 都视为买入操作\n",
    "df_temp = df_temp.replace(['基金申购','托管转入'], ['买入','买入'])\n",
    "df_temp['occur_money'] = df_temp.apply(occur_money_calc, axis=1)\n",
    "# 补充一二三级分类\n",
    "df_temp = pd.merge(df_temp, df_category, left_on='证券代码', right_on='基金代码', how='left')\n",
    "df_temp = df_temp.rename(columns={'成交时间':'time', '证券代码':'code', '证券名称':'name',\n",
    "                                  '委托类别':'deal_type', '成交价格': 'nav_unit', '成交数量': 'volume',\n",
    "                                  '发生金额': 'deal_money', '成本总计': 'fee', '一级分类': 'category1', \n",
    "                                  '二级分类': 'category2',  '三级分类': 'category3',  '分类ID': 'category_id', \n",
    "                                  '备注': 'note'})\n",
    "\n",
    "df_temp = df_temp[['id','date','time','code','name','deal_type','nav_unit','nav_acc','volume','deal_money','fee','occur_money','account','category1','category2','category3','category_id','note']]\n",
    "# 输出 csv 文件\n",
    "df_temp.to_excel('04_康力泉_华宝.xlsx', sheet_name=f'康力泉_交易记录')\n",
    "# 输出 json 数据\n",
    "# json_list = json.loads(df_temp.to_json(orient='records', force_ascii=False))\n",
    "# [print(x) for x in json_list]\n",
    "\n",
    "# TODO 看看是否有除了 “买入” 和 “卖出”之外的操作\n",
    "# print(df_temp.deal_type.unique())"
   ]
  }
 ],
 "metadata": {
  "kernelspec": {
   "display_name": "Python 3",
   "language": "python",
   "name": "python3"
  },
  "language_info": {
   "codemirror_mode": {
    "name": "ipython",
    "version": 3
   },
   "file_extension": ".py",
   "mimetype": "text/x-python",
   "name": "python",
   "nbconvert_exporter": "python",
   "pygments_lexer": "ipython3",
   "version": "3.7.3"
  },
  "toc": {
   "base_numbering": 1,
   "nav_menu": {},
   "number_sections": true,
   "sideBar": true,
   "skip_h1_title": false,
   "title_cell": "Table of Contents",
   "title_sidebar": "Contents",
   "toc_cell": false,
   "toc_position": {},
   "toc_section_display": true,
   "toc_window_display": false
  }
 },
 "nbformat": 4,
 "nbformat_minor": 2
}
