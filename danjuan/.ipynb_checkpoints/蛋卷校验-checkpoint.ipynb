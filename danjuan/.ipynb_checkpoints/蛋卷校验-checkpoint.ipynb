{
 "cells": [
  {
   "cell_type": "code",
   "execution_count": 8,
   "metadata": {},
   "outputs": [
    {
     "name": "stderr",
     "output_type": "stream",
     "text": [
      "D:\\develop\\python\\Anaconda3\\lib\\site-packages\\gevent\\hub.py:154: UserWarning: libuv only supports millisecond timer resolution; all times less will be set to 1 ms\n",
      "  with loop.timer(seconds, ref=ref) as t:\n"
     ]
    }
   ],
   "source": [
    "import json\n",
    "import time, datetime\n",
    "\n",
    "import grequests\n",
    "import requests\n",
    "import pandas as pd\n",
    "import numpy as np\n",
    "from matplotlib import pyplot as plt\n",
    "\n",
    "pd.set_option('display.max_columns', 30)\n",
    "pd.set_option('display.max_rows', 1000)"
   ]
  },
  {
   "cell_type": "code",
   "execution_count": 9,
   "metadata": {
    "scrolled": false
   },
   "outputs": [
    {
     "name": "stdout",
     "output_type": "stream",
     "text": [
      "568\n",
      "606\n"
     ]
    }
   ],
   "source": [
    "old_list = json.loads(open('old_record.json','r',encoding='utf-8').read())\n",
    "# old_record\n",
    "df_old = pd.DataFrame([pd.Series(x) for x in old_list])\n",
    "df_old['order_id'] = df_old['note'].apply(lambda x: x.split('orderid=')[1])\n",
    "print(len(df_old.order_id.unique()))\n",
    "\n",
    "# new record\n",
    "df_new = pd.read_excel('04_康世海_蛋卷.xlsx', dtype={'code': np.object}, index_col=0)\n",
    "df_new = df_new.drop(['time'],axis=1)\n",
    "df_new['order_id'] = df_new['note'].apply(lambda x: x.split('orderid=')[1])\n",
    "print(len(df_new.order_id.unique()))\n",
    "\n",
    "# 新旧差异\n",
    "df_diff = df_new[~df_new.order_id.isin(df_old.order_id)]\n",
    "# 新旧相同\n",
    "df_same = df_new[df_new.order_id.isin(df_old.order_id)]"
   ]
  },
  {
   "cell_type": "code",
   "execution_count": 13,
   "metadata": {
    "scrolled": false
   },
   "outputs": [
    {
     "name": "stdout",
     "output_type": "stream",
     "text": [
      "[ True]\n",
      "[ True]\n",
      "[ True False]\n"
     ]
    }
   ],
   "source": [
    "# compare\n",
    "df_merge = pd.merge(df_old, df_same, on=['order_id'])\n",
    "# 'id','date','time','code','name','deal_type','nav_unit','nav_acc','volume',\n",
    "# 'deal_money','fee','occur_money','account','category1','category2','category3','category_id','note']\n",
    "val1 = 'category1'\n",
    "val2 = 'category2'\n",
    "val3 = 'category3'\n",
    "# df_merge = df_merge[['{0}_x'.format(val1),'{0}_y'.format(val1), '{0}_x'.format(val2),'{0}_y'.format(val2)]]\n",
    "\n",
    "print((df_merge['{0}_x'.format(val1)] == df_merge['{0}_y'.format(val1)]).unique())\n",
    "print((df_merge['{0}_x'.format(val2)] == df_merge['{0}_y'.format(val2)]).unique())\n",
    "print((df_merge['{0}_x'.format(val3)] == df_merge['{0}_y'.format(val3)]).unique())\n",
    "# 看看谁不同\n",
    "# df_merge[~(df_merge['category3_x'] == df_merge['category3_y'])][['category3_x','category3_y']]\n",
    "# df_merge[['category3_x','category3_y']]"
   ]
  }
 ],
 "metadata": {
  "kernelspec": {
   "display_name": "Python 3",
   "language": "python",
   "name": "python3"
  },
  "language_info": {
   "codemirror_mode": {
    "name": "ipython",
    "version": 3
   },
   "file_extension": ".py",
   "mimetype": "text/x-python",
   "name": "python",
   "nbconvert_exporter": "python",
   "pygments_lexer": "ipython3",
   "version": "3.7.3"
  },
  "toc": {
   "base_numbering": 1,
   "nav_menu": {},
   "number_sections": true,
   "sideBar": true,
   "skip_h1_title": false,
   "title_cell": "Table of Contents",
   "title_sidebar": "Contents",
   "toc_cell": false,
   "toc_position": {},
   "toc_section_display": true,
   "toc_window_display": false
  }
 },
 "nbformat": 4,
 "nbformat_minor": 2
}
