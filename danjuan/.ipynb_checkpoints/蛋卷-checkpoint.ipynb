{
 "cells": [
  {
   "cell_type": "code",
   "execution_count": 119,
   "metadata": {},
   "outputs": [],
   "source": [
    "import json\n",
    "import time, datetime\n",
    "\n",
    "import grequests\n",
    "import requests\n",
    "import pandas as pd\n",
    "import numpy as np\n",
    "from matplotlib import pyplot as plt\n",
    "\n",
    "pd.set_option('display.max_columns', 30)\n",
    "pd.set_option('display.max_rows', 500)"
   ]
  },
  {
   "cell_type": "code",
   "execution_count": 34,
   "metadata": {},
   "outputs": [],
   "source": [
    "# request header\n",
    "\n",
    "klq_header = {'Host': 'danjuanapp.com', \n",
    "            'Connection': 'keep-alive', \n",
    "            'Pragma': 'no-cache', \n",
    "            'Cache-Control': 'no-cache', \n",
    "            'Accept': 'application/json, text/plain, */*', \n",
    "            'User-Agent': 'Mozilla/5.0 (Windows NT 10.0; Win64; x64) AppleWebKit/537.36 (KHTML, like Gecko) Chrome/85.0.4183.83 Safari/537.36', \n",
    "            'elastic-apm-traceparent': '00-cf0b429fe7c9fe2c32aade4f02cf9f12-5da687bdd2493f51-01', \n",
    "            'Sec-Fetch-Site': 'same-origin', \n",
    "            'Sec-Fetch-Mode': 'cors', \n",
    "            'Sec-Fetch-Dest': 'empty', \n",
    "            'Referer': 'https://danjuanapp.com/my-money?channel=1300100141', \n",
    "            'Accept-Encoding': 'gzip, deflate, br', \n",
    "            'Accept-Language': 'zh-CN,zh;q=0.9', \n",
    "            'Cookie': 'device_id=web_S1ot72YpL; _ga=GA1.2.311399310.1592537987; gr_user_id=1013b64a-5f30-4891-bae2-7345e93e52f7; thirdparty_token=; thirdparty_source=; thirdparty_nickname=; thirdparty_avatar=; Hm_lvt_b53ede02df3afea0608038748f4c9f36=1595420501; channel=1300100141; Hm_lpvt_b53ede02df3afea0608038748f4c9f36=1596033363; acw_tc=2760824c15988776261422279ee0b32c0909bde44b077e7cf56ba26a2f6772; xq_a_token=01cd7758682a857c480534aafa9ea01f6881ae8a; accesstoken=240020000f5c2f25aeb09b87d557a2edbf0c3d526ed48e771; uid=203274561; u=203274561; refreshtoken=240020000ba36ea4764b5561a4de980db4d1101ec943ba9fb; timestamp=1598877646480'}"
   ]
  },
  {
   "cell_type": "code",
   "execution_count": 10,
   "metadata": {
    "scrolled": false
   },
   "outputs": [
    {
     "name": "stderr",
     "output_type": "stream",
     "text": [
      "D:\\develop\\python\\Anaconda3\\lib\\site-packages\\urllib3\\connectionpool.py:847: InsecureRequestWarning: Unverified HTTPS request is being made. Adding certificate verification is strongly advised. See: https://urllib3.readthedocs.io/en/latest/advanced-usage.html#ssl-warnings\n",
      "  InsecureRequestWarning)\n"
     ]
    }
   ],
   "source": [
    "# 拿交易列表\n",
    "deal_list_url = u'https://danjuanapp.com/djapi/order/p/list?page=1&size=2000&type=all'\n",
    "response = requests.get(deal_list_url, headers=klq_header, verify=False)\n",
    "trade_list = response.json()['data']['items']"
   ]
  },
  {
   "cell_type": "code",
   "execution_count": 50,
   "metadata": {
    "scrolled": true
   },
   "outputs": [
    {
     "data": {
      "text/plain": [
       "126"
      ]
     },
     "execution_count": 50,
     "metadata": {},
     "output_type": "execute_result"
    },
    {
     "name": "stderr",
     "output_type": "stream",
     "text": [
      "D:\\develop\\python\\Anaconda3\\lib\\site-packages\\gevent\\hub.py:154: UserWarning: libuv only supports millisecond timer resolution; all times less will be set to 1 ms\n",
      "  with loop.timer(seconds, ref=ref) as t:\n"
     ]
    }
   ],
   "source": [
    "series_list = [pd.Series(x) for x in trade_list]\n",
    "df_trade_list = pd.DataFrame(series_list)\n",
    "# 去掉失败、撤单、部分交易成功的交易记录单\n",
    "df_trade_list = df_trade_list[~(df_trade_list['status_desc'].isin(['交易失败', '已撤单', '部分交易成功']))]\n",
    "# created_at 换成可读形式 1598332156752\n",
    "df_trade_list['created_at'] = df_trade_list.created_at.apply(lambda x: time.strftime('%Y-%m-%d %H:%M:%S', time.localtime(x/1000)))\n",
    "df_trade_list['created_at'] = df_trade_list['created_at'].astype(np.datetime64)\n",
    "df_trade_list = df_trade_list.sort_values(['created_at'])\n",
    "\n",
    "# ['CSI666', 'CSI1021', 'CSI1019', '003474']\n",
    "# action ['022', '024', '143', '036']\n",
    "df_trade_list.action.unique()\n",
    "df_trade_list"
   ]
  },
  {
   "cell_type": "code",
   "execution_count": 58,
   "metadata": {
    "scrolled": true
   },
   "outputs": [
    {
     "data": {
      "text/plain": [
       "126"
      ]
     },
     "execution_count": 58,
     "metadata": {},
     "output_type": "execute_result"
    }
   ],
   "source": [
    "# 取回所有的成交记录\n",
    "detail_url = u'https://danjuanapp.com/djapi/order/p/plan/{0}'\n",
    "# response = requests.get(detail_url.format(item['order_id']), headers = self.headers, verify=False)            \n",
    "order_id_list = df_trade_list.order_id.tolist()\n",
    "tasks = [grequests.get(u'https://danjuanapp.com/djapi/order/p/plan/{0}'.format(x), headers=klq_header) for x in df_trade_list.order_id.tolist()]\n",
    "response_list = grequests.map(tasks)\n",
    "len(response_list)"
   ]
  },
  {
   "cell_type": "code",
   "execution_count": 118,
   "metadata": {
    "scrolled": true
   },
   "outputs": [
    {
     "name": "stderr",
     "output_type": "stream",
     "text": [
      "D:\\develop\\python\\Anaconda3\\lib\\site-packages\\gevent\\hub.py:154: UserWarning: libuv only supports millisecond timer resolution; all times less will be set to 1 ms\n",
      "  with loop.timer(seconds, ref=ref) as t:\n"
     ]
    }
   ],
   "source": [
    "plan_record_list = []\n",
    "fund_record_list = []\n",
    "df_trade_list = pd.DataFrame(series_list)\n",
    "\n",
    "json_list = []\n",
    "for i in range(len(response_list)):\n",
    "    response = response_list[i]\n",
    "    records_data = response.json()['data']\n",
    "    # 去掉 单纯买入南方天天利货币B 的操作，这种操作 ttype 是 fund，sub_order_list 是空\n",
    "    if 'sub_order_list' in records_data.keys():\n",
    "        plan_record_list.append(pd.Series(response.json()['data']))\n",
    "    else:\n",
    "        fund_record_list.append(pd.Series(response.json()['data']))\n",
    "#     break\n",
    "df_plan_record_list = pd.DataFrame(plan_record_list)\n",
    "df_fund_record_list = pd.DataFrame(fund_record_list)\n",
    "\n",
    "# 单独购买基金或货币基金\n",
    "df_fund_record_list['created_at'] = df_fund_record_list.created_at.apply(lambda x: time.strftime('%Y-%m-%d %H:%M:%S', time.localtime(x/1000)))\n",
    "df_fund_record_list['created_at'] = df_fund_record_list['created_at'].astype(np.datetime64)\n",
    "df_fund_record_list = df_fund_record_list.sort_values(['created_at'])\n",
    "df_fund_record_list\n",
    "\n",
    "# 组合操作\n",
    "df_plan_record_list['created_at'] = df_plan_record_list.created_at.apply(lambda x: time.strftime('%Y-%m-%d %H:%M:%S', time.localtime(x/1000)))\n",
    "df_plan_record_list['created_at'] = df_plan_record_list['created_at'].astype(np.datetime64)\n",
    "df_plan_record_list['final_confirm_date'] = df_plan_record_list.final_confirm_date.apply(lambda x: time.strftime('%Y-%m-%d %H:%M:%S', time.localtime(x/1000)))\n",
    "df_plan_record_list['final_confirm_date'] = df_plan_record_list['final_confirm_date'].astype(np.datetime64)\n",
    "df_plan_record_list = df_plan_record_list.sort_values(['created_at','final_confirm_date'])\n",
    "# df_plan_record_list"
   ]
  },
  {
   "cell_type": "code",
   "execution_count": 123,
   "metadata": {
    "scrolled": false
   },
   "outputs": [],
   "source": [
    "# 具体的交易\n",
    "# records = [pd.Series(x) for x in df_plan_record_list['sub_order_list']['orders'].tolist()]\n",
    "# # records\n",
    "# # pd.DataFrame(\n",
    "# df_plan_record_list['sub_order_list'].tolist()\n",
    "records = []\n",
    "for sub_order in df_plan_record_list['sub_order_list']:\n",
    "    for i in range(len(sub_order)):\n",
    "        orders = sub_order[i]['orders']\n",
    "        for record in orders:\n",
    "            records.append(pd.Series(record))\n",
    "#             print(record)\n",
    "#         print()\n",
    "df_temp = pd.DataFrame(records)\n",
    "df_temp['ts'] = df_temp.ts.apply(lambda x: time.strftime('%Y-%m-%d %H:%M:%S', time.localtime(x/1000)))\n",
    "df_temp['ts'] = df_temp['ts'].astype(np.datetime64)\n",
    "df_temp['confirm_ts'] = df_temp.confirm_ts.apply(lambda x: time.strftime('%Y-%m-%d %H:%M:%S', time.localtime(x/1000)))\n",
    "df_temp['confirm_ts'] = df_temp['confirm_ts'].astype(np.datetime64)\n",
    "df_temp = df_temp.sort_values(['ts','confirm_ts'])\n",
    "# df_temp"
   ]
  }
 ],
 "metadata": {
  "kernelspec": {
   "display_name": "Python 3",
   "language": "python",
   "name": "python3"
  },
  "language_info": {
   "codemirror_mode": {
    "name": "ipython",
    "version": 3
   },
   "file_extension": ".py",
   "mimetype": "text/x-python",
   "name": "python",
   "nbconvert_exporter": "python",
   "pygments_lexer": "ipython3",
   "version": "3.7.3"
  }
 },
 "nbformat": 4,
 "nbformat_minor": 2
}
