{
 "cells": [
  {
   "cell_type": "code",
   "execution_count": 1,
   "metadata": {},
   "outputs": [
    {
     "name": "stderr",
     "output_type": "stream",
     "text": [
      "D:\\develop\\python\\Anaconda3\\lib\\importlib\\_bootstrap.py:219: RuntimeWarning: numpy.ufunc size changed, may indicate binary incompatibility. Expected 192 from C header, got 216 from PyObject\n",
      "  return f(*args, **kwds)\n"
     ]
    }
   ],
   "source": [
    "import json\n",
    "import pandas as pd\n",
    "import numpy as np\n",
    "from matplotlib import pyplot as plt"
   ]
  },
  {
   "cell_type": "code",
   "execution_count": 32,
   "metadata": {
    "scrolled": false
   },
   "outputs": [],
   "source": [
    "df_raw_2015 = pd.read_excel('华泰证券2015-2019.xlsx', dtype={'证券代码': np.object, '成交数量': np.float64})\n",
    "# ['流水号', '发生日期', '证券名称', '证券代码', '买卖标志', '业务名称', '成交价格', '成交数量', '发生金额',\n",
    "#       '剩余金额', '佣金', '股东代码', '备注']\n",
    "# print(df_raw_2015.info())\n",
    "# print()\n",
    "\n",
    "df_raw_current = pd.read_excel('华泰证券.xlsx', parse_dates=True, dtype={'发生日期': np.object, '证券代码': np.object, '成交数量': np.float64})\n",
    "df_raw_current = df_raw_current[['流水号', '发生日期', '证券名称', '证券代码', '买卖标志', '业务名称', '成交价格', '成交数量', '发生金额',\n",
    "       '剩余金额', '佣金', '股东代码', '备注']]\n",
    "# 日期统一为 datetime64 类型\n",
    "df_raw_current['发生日期'] = df_raw_current['发生日期'].apply(lambda x: pd.datetime(year=int(x[0:4]),month=int(x[4:6]),day=int(x[6:8])))\n",
    "df_raw_current['发生日期'] = df_raw_current['发生日期'].astype(np.datetime64)\n",
    "# print(df_raw_current.info())\n",
    "\n",
    "# ['流水号', '发生日期', '证券名称', '证券代码', '买卖标志', '业务名称', '成交价格', '成交数量', '发生金额',\n",
    "#      '剩余金额', '佣金', '股东代码',  '备注', 印花税', '过户费', '其他费', '币种']\n",
    "df_raw = pd.concat([df_raw_2015, df_raw_current], ignore_index=True)\n",
    "# df_raw"
   ]
  }
 ],
 "metadata": {
  "kernelspec": {
   "display_name": "Python 3",
   "language": "python",
   "name": "python3"
  },
  "language_info": {
   "codemirror_mode": {
    "name": "ipython",
    "version": 3
   },
   "file_extension": ".py",
   "mimetype": "text/x-python",
   "name": "python",
   "nbconvert_exporter": "python",
   "pygments_lexer": "ipython3",
   "version": "3.7.3"
  },
  "toc": {
   "base_numbering": 1,
   "nav_menu": {},
   "number_sections": true,
   "sideBar": true,
   "skip_h1_title": false,
   "title_cell": "Table of Contents",
   "title_sidebar": "Contents",
   "toc_cell": false,
   "toc_position": {},
   "toc_section_display": true,
   "toc_window_display": false
  }
 },
 "nbformat": 4,
 "nbformat_minor": 2
}
