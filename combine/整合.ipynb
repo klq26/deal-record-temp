{
 "cells": [
  {
   "cell_type": "code",
   "execution_count": 1,
   "metadata": {},
   "outputs": [],
   "source": [
    "import json\n",
    "import pandas as pd\n",
    "import numpy as np\n",
    "\n",
    "pd.set_option('display.max_columns', 20)\n",
    "pd.set_option('display.max_rows', 1100)"
   ]
  },
  {
   "cell_type": "code",
   "execution_count": 2,
   "metadata": {},
   "outputs": [],
   "source": [
    "# 读取分类表\n",
    "df_category = pd.read_excel('资产配置分类表.xlsx',dtype={'基金代码': np.object, '分类ID': np.int64})\n",
    "# df_category.基金代码.unique()\n",
    "# 基金名称\t基金简称\t基金代码\t一级分类\t二级分类\t三级分类\t分类ID\t市场"
   ]
  },
  {
   "cell_type": "code",
   "execution_count": 8,
   "metadata": {
    "scrolled": false
   },
   "outputs": [
    {
     "data": {
      "text/plain": [
       "78912.29"
      ]
     },
     "execution_count": 8,
     "metadata": {},
     "output_type": "execute_result"
    }
   ],
   "source": [
    "suppose_dtypes = {'id':np.int64, 'date':str, 'time':str, 'code':str, 'name':np.object, 'deal_type':np.object, 'nav_unit':np.float64,\n",
    "                  'nav_acc':np.float64,'volume':np.float64, 'deal_money':np.float64, 'fee':np.float64,'occur_money':np.float64, 'account':np.object,\n",
    "                 'category1':np.object, 'category2':np.object, 'category3':np.object, 'category_id':np.object,'note':np.object}\n",
    "df_dj = pd.read_excel('04_康力泉_蛋卷.xlsx',index_col=0, dtype=suppose_dtypes)\n",
    "df_hb = pd.read_excel('04_康力泉_华宝.xlsx',index_col=0, dtype=suppose_dtypes)\n",
    "df_ht = pd.read_excel('04_康力泉_华泰.xlsx',index_col=0, dtype=suppose_dtypes)\n",
    "df_qm = pd.read_excel('04_康力泉_且慢.xlsx',index_col=0, dtype=suppose_dtypes)\n",
    "df_tt = pd.read_excel('04_康力泉_天天.xlsx',index_col=0, dtype=suppose_dtypes)\n",
    "df_zfb = pd.read_excel('04_康力泉_支付宝.xlsx',index_col=0, dtype=suppose_dtypes)\n",
    "\n",
    "data_list = [df_dj, df_hb, df_ht, df_qm, df_tt, df_zfb]\n",
    "# for df in data_list:\n",
    "#     print(df.dtypes)\n",
    "\n",
    "df = pd.concat([df_dj, df_hb, df_ht, df_qm, df_tt, df_zfb])\n",
    "df = df.sort_values(['date','time','code'])\n",
    "df = df.reset_index(drop=True)\n",
    "df['id'] = df.index + 1\n",
    "df = pd.merge(df, df_category, left_on='code', right_on='基金代码', how='left', indicator=True)\n",
    "# 用 df_category 中的 基金名称 和 基金简称 来统一多个基金渠道的不同 name 并增加短名称\n",
    "df['name'] = df['基金名称']\n",
    "df['s_name'] = df['基金简称']\n",
    "df = df[['id', 'date', 'time', 'code', 'name', 's_name', 'deal_type', 'nav_unit', 'nav_acc', 'volume', 'deal_money', 'fee', 'occur_money', 'account', 'category1', 'category2', 'category3', 'category_id', 'note']]\n",
    "# 输出\n",
    "df.to_excel('04_康力泉_整体.xlsx', sheet_name=f'康力泉_交易记录')\n",
    "df[(df['code'] == '100032') & (df['account'] == '康力泉_天天')].volume.sum()\n",
    "# .volume.sum()\n",
    "# 71638.83 - 6574.50 = 65064.33\n",
    "# 招商银行|6292 78912.29\n",
    "# 78912.29 - 6574.50 = 72337.79\n",
    "# 72337.79 - 65064.33 = 7273.46"
   ]
  }
 ],
 "metadata": {
  "kernelspec": {
   "display_name": "Python 3",
   "language": "python",
   "name": "python3"
  },
  "language_info": {
   "codemirror_mode": {
    "name": "ipython",
    "version": 3
   },
   "file_extension": ".py",
   "mimetype": "text/x-python",
   "name": "python",
   "nbconvert_exporter": "python",
   "pygments_lexer": "ipython3",
   "version": "3.7.3"
  }
 },
 "nbformat": 4,
 "nbformat_minor": 2
}
