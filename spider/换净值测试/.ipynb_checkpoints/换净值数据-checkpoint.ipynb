{
 "cells": [
  {
   "cell_type": "code",
   "execution_count": 1,
   "metadata": {},
   "outputs": [
    {
     "name": "stderr",
     "output_type": "stream",
     "text": [
      "D:\\develop\\python\\Anaconda3\\lib\\site-packages\\grequests.py:21: MonkeyPatchWarning: Monkey-patching ssl after ssl has already been imported may lead to errors, including RecursionError on Python 3.6. It may also silently lead to incorrect behaviour on Python 3.7. Please monkey-patch earlier. See https://github.com/gevent/gevent/issues/1016. Modules that had direct imports (NOT patched): ['urllib3.util (D:\\\\develop\\\\python\\\\Anaconda3\\\\lib\\\\site-packages\\\\urllib3\\\\util\\\\__init__.py)', 'thriftpy2.transport._ssl (D:\\\\develop\\\\python\\\\Anaconda3\\\\lib\\\\site-packages\\\\thriftpy2\\\\transport\\\\_ssl.py)', 'urllib3.contrib.pyopenssl (D:\\\\develop\\\\python\\\\Anaconda3\\\\lib\\\\site-packages\\\\urllib3\\\\contrib\\\\pyopenssl.py)']. \n",
      "  curious_george.patch_all(thread=False, select=False)\n"
     ]
    },
    {
     "name": "stdout",
     "output_type": "stream",
     "text": [
      "auth success \n"
     ]
    },
    {
     "name": "stderr",
     "output_type": "stream",
     "text": [
      "D:\\develop\\python\\Anaconda3\\lib\\site-packages\\gevent\\hub.py:154: UserWarning: libuv only supports millisecond timer resolution; all times less will be set to 1 ms\n",
      "  with loop.timer(seconds, ref=ref) as t:\n"
     ]
    }
   ],
   "source": [
    "import pandas as pd\n",
    "import numpy as np\n",
    "from jqdatasdk import *\n",
    "import grequests\n",
    "import requests\n",
    "import json\n",
    "\n",
    "auth('13810650842','123456a')\n",
    "pd.options.display.max_rows=None\n",
    "pd.options.display.max_columns=None"
   ]
  },
  {
   "cell_type": "code",
   "execution_count": 2,
   "metadata": {
    "scrolled": false
   },
   "outputs": [],
   "source": [
    "df_r = pd.read_excel('all.xlsx', index_col=0, dtype={'code':str})\n",
    "# df_r = df_r[df_r['code'] == 100032]\n",
    "# df_r.code = df_r.code.apply(lambda x: str(x).zfill(6))\n",
    "df_r = df_r[~df_r.account.isin(['华泰','华宝','康力泉_蛋卷'])]\n",
    "\n",
    "df_nav = pd.read_excel('nav.xlsx', index_col=0, dtype={'code':str})\n",
    "df_nav.date = df_nav.date.astype(np.datetime64)\n",
    "# df_nav.code = df_r.code.apply(lambda x: str(x).zfill(6))\n",
    "# df_nav = df_nav[df_nav['code'] == 100032]\n",
    "# df_nav\n",
    "\n",
    "# df_day = pd.read_excel('days.xlsx', index_col=0)\n",
    "# df_day"
   ]
  },
  {
   "cell_type": "code",
   "execution_count": 6,
   "metadata": {
    "scrolled": false
   },
   "outputs": [
    {
     "name": "stderr",
     "output_type": "stream",
     "text": [
      "D:\\develop\\python\\Anaconda3\\lib\\site-packages\\ipykernel_launcher.py:8: FutureWarning: Creating a DatetimeIndex by passing range endpoints is deprecated.  Use `pandas.date_range` instead.\n",
      "  \n",
      "D:\\develop\\python\\Anaconda3\\lib\\site-packages\\ipykernel_launcher.py:10: FutureWarning: Creating a DatetimeIndex by passing range endpoints is deprecated.  Use `pandas.date_range` instead.\n",
      "  # Remove the CWD from sys.path while we load stuff.\n"
     ]
    },
    {
     "data": {
      "text/html": [
       "<div>\n",
       "<style scoped>\n",
       "    .dataframe tbody tr th:only-of-type {\n",
       "        vertical-align: middle;\n",
       "    }\n",
       "\n",
       "    .dataframe tbody tr th {\n",
       "        vertical-align: top;\n",
       "    }\n",
       "\n",
       "    .dataframe thead th {\n",
       "        text-align: right;\n",
       "    }\n",
       "</style>\n",
       "<table border=\"1\" class=\"dataframe\">\n",
       "  <thead>\n",
       "    <tr style=\"text-align: right;\">\n",
       "      <th></th>\n",
       "      <th>code</th>\n",
       "      <th>name</th>\n",
       "      <th>deal_type</th>\n",
       "      <th>date</th>\n",
       "      <th>补充日期</th>\n",
       "      <th>nav_unit</th>\n",
       "      <th>单位净值</th>\n",
       "      <th>nav_比较</th>\n",
       "      <th>nav_acc</th>\n",
       "      <th>累计净值</th>\n",
       "      <th>account</th>\n",
       "    </tr>\n",
       "  </thead>\n",
       "  <tbody>\n",
       "    <tr>\n",
       "      <th>376</th>\n",
       "      <td>001061</td>\n",
       "      <td>华夏收益债券(QDII)A</td>\n",
       "      <td>分红</td>\n",
       "      <td>2019-07-09</td>\n",
       "      <td>2019-07-10</td>\n",
       "      <td>0.0</td>\n",
       "      <td>1.304</td>\n",
       "      <td>False</td>\n",
       "      <td>0.0</td>\n",
       "      <td>1.506</td>\n",
       "      <td>康力泉_天天</td>\n",
       "    </tr>\n",
       "    <tr>\n",
       "      <th>932</th>\n",
       "      <td>270048</td>\n",
       "      <td>广发纯债债券A</td>\n",
       "      <td>分红</td>\n",
       "      <td>2020-07-13</td>\n",
       "      <td>2020-07-10</td>\n",
       "      <td>0.0</td>\n",
       "      <td>1.190</td>\n",
       "      <td>False</td>\n",
       "      <td>0.0</td>\n",
       "      <td>1.451</td>\n",
       "      <td>康力泉_天天</td>\n",
       "    </tr>\n",
       "  </tbody>\n",
       "</table>\n",
       "</div>"
      ],
      "text/plain": [
       "       code           name deal_type        date        补充日期  nav_unit   单位净值  \\\n",
       "376  001061  华夏收益债券(QDII)A        分红  2019-07-09  2019-07-10       0.0  1.304   \n",
       "932  270048        广发纯债债券A        分红  2020-07-13  2020-07-10       0.0  1.190   \n",
       "\n",
       "     nav_比较  nav_acc   累计净值 account  \n",
       "376   False      0.0  1.506  康力泉_天天  \n",
       "932   False      0.0  1.451  康力泉_天天  "
      ]
     },
     "execution_count": 6,
     "metadata": {},
     "output_type": "execute_result"
    }
   ],
   "source": [
    "\n",
    "def calc_date(x):\n",
    "    op = x['deal_type']\n",
    "    if op == '分红':\n",
    "        # 日期游标（除权日，可能在给定日期前后的一个范围内）\n",
    "        # 非货币基金的分红，通常稍有一个月触发 2 次及以上的\n",
    "        date_cursor = x['date']\n",
    "        # 上边界，15 天以前\n",
    "        before = pd.DatetimeIndex(end=date_cursor, freq='D', periods=15)[0]\n",
    "        # 下边界 15 天以后\n",
    "        after = pd.DatetimeIndex(start=date_cursor, freq='D', periods=15)[-1]\n",
    "        \n",
    "        df_temp = df_nav[(df_nav['code'] == x['code']) & (df_nav['date'] >= before) & (df_nav['date'] <= after) & (df_nav['deal_type'] == '分红')]\n",
    "#         print(date_cursor, before, after, df_temp)\n",
    "        if len(df_temp) > 0:\n",
    "            return str(df_temp.date.values[0])[0:10]\n",
    "        else:\n",
    "            return '无法补充'\n",
    "        pass\n",
    "    else:\n",
    "        return x['date']\n",
    "    pass\n",
    "\n",
    "def calc_nav_unit(x):\n",
    "    df_temp = df_nav[(df_nav['code'] == x['code']) & (df_nav['date'] == x['补充日期'])]\n",
    "#     print(df_temp)\n",
    "    if len(df_temp) > 0:\n",
    "        return df_temp.nav_unit.values[0]\n",
    "    else:\n",
    "#         return '无法补充'\n",
    "        return x['nav_unit']\n",
    "\n",
    "def calc_nav_acc(x):\n",
    "    df_temp = df_nav[(df_nav['code'] == x['code']) & (df_nav['date'] == x['补充日期'])]\n",
    "#     print(df_temp)\n",
    "    if len(df_temp) > 0:\n",
    "        return df_temp.nav_acc.values[0]\n",
    "    else:\n",
    "#         return '无法补充'\n",
    "        return x['nav_acc']\n",
    "\n",
    "df = df_r\n",
    "df['补充日期'] = df['date']\n",
    "df['补充日期'] = df.apply(calc_date, axis=1)\n",
    "df['单位净值'] = df.apply(calc_nav_unit, axis=1)\n",
    "df['累计净值'] = df.apply(calc_nav_acc, axis=1)\n",
    "df['nav_比较'] = df['nav_unit'] == df['单位净值']\n",
    "# df['acc_比较'] = df['nav_acc'] == df['累计净值']\n",
    "df = df[['code','name', 'deal_type', 'date', '补充日期','nav_unit','单位净值','nav_比较', 'nav_acc','累计净值', \"account\"]]\n",
    "df[df['nav_比较'] == False]"
   ]
  }
 ],
 "metadata": {
  "kernelspec": {
   "display_name": "Python 3",
   "language": "python",
   "name": "python3"
  },
  "language_info": {
   "codemirror_mode": {
    "name": "ipython",
    "version": 3
   },
   "file_extension": ".py",
   "mimetype": "text/x-python",
   "name": "python",
   "nbconvert_exporter": "python",
   "pygments_lexer": "ipython3",
   "version": "3.7.3"
  },
  "toc": {
   "base_numbering": 1,
   "nav_menu": {},
   "number_sections": true,
   "sideBar": true,
   "skip_h1_title": false,
   "title_cell": "Table of Contents",
   "title_sidebar": "Contents",
   "toc_cell": false,
   "toc_position": {},
   "toc_section_display": true,
   "toc_window_display": false
  }
 },
 "nbformat": 4,
 "nbformat_minor": 2
}
