{
 "cells": [
  {
   "cell_type": "code",
   "execution_count": 16,
   "metadata": {},
   "outputs": [],
   "source": [
    "# import\n",
    "import json\n",
    "import time, datetime\n",
    "from datetime import datetime\n",
    "from datetime import timedelta\n",
    "\n",
    "from bs4 import BeautifulSoup\n",
    "import grequests\n",
    "import requests\n",
    "import pandas as pd\n",
    "import numpy as np\n",
    "from matplotlib import pyplot as plt\n",
    "\n",
    "pd.set_option('display.max_columns', 30)\n",
    "pd.set_option('display.max_rows', 1000)"
   ]
  },
  {
   "cell_type": "code",
   "execution_count": 9,
   "metadata": {},
   "outputs": [
    {
     "data": {
      "text/plain": [
       "[{'startDate': '2016-05-01', 'endDate': '2016-07-30', 'duration': 90},\n",
       " {'startDate': '2016-07-31', 'endDate': '2016-10-29', 'duration': 90},\n",
       " {'startDate': '2016-10-30', 'endDate': '2017-01-28', 'duration': 90},\n",
       " {'startDate': '2017-01-29', 'endDate': '2017-04-29', 'duration': 90},\n",
       " {'startDate': '2017-04-30', 'endDate': '2017-07-29', 'duration': 90},\n",
       " {'startDate': '2017-07-30', 'endDate': '2017-10-28', 'duration': 90},\n",
       " {'startDate': '2017-10-29', 'endDate': '2018-01-27', 'duration': 90},\n",
       " {'startDate': '2018-01-28', 'endDate': '2018-04-28', 'duration': 90},\n",
       " {'startDate': '2018-04-29', 'endDate': '2018-07-28', 'duration': 90},\n",
       " {'startDate': '2018-07-29', 'endDate': '2018-10-27', 'duration': 90},\n",
       " {'startDate': '2018-10-28', 'endDate': '2019-01-26', 'duration': 90},\n",
       " {'startDate': '2019-01-27', 'endDate': '2019-04-27', 'duration': 90},\n",
       " {'startDate': '2019-04-28', 'endDate': '2019-07-27', 'duration': 90},\n",
       " {'startDate': '2019-07-28', 'endDate': '2019-10-26', 'duration': 90},\n",
       " {'startDate': '2019-10-27', 'endDate': '2020-01-25', 'duration': 90},\n",
       " {'startDate': '2020-01-26', 'endDate': '2020-04-25', 'duration': 90},\n",
       " {'startDate': '2020-04-26', 'endDate': '2020-07-25', 'duration': 90},\n",
       " {'startDate': '2020-07-26', 'endDate': '2020-09-01', 'duration': 37}]"
      ]
     },
     "execution_count": 9,
     "metadata": {},
     "output_type": "execute_result"
    }
   ],
   "source": [
    "# config & cookie\n",
    "\n",
    "global_name = '康力泉'\n",
    "# global_name = '李淑云'\n",
    "\n",
    "klq_header = {'Accept': 'application/json, text/javascript, */*; q=0.01',\n",
    "            'Accept-Encoding': 'gzip, deflate, br',\n",
    "            'Accept-Language': 'zh-Hans-CN, zh-Hans; q=0.7, ja; q=0.3',\n",
    "            'Cache-Control': 'no-cache',\n",
    "            'Connection': 'Keep-Alive',\n",
    "            'Content-Length': '0',\n",
    "            'Content-Type': 'application/json; charset=utf-8',\n",
    "            'Cookie': 'FundTradeLoginCard=0; FundTradeLoginUser=jQb96T8DLFudm4V6Q10OKh79XNsgiYhcVYFnyI1Curulsuq9VW05HqMt8LDGsfIuOV3tNUW8; FundTradeLoginTab=0; TradeLoginToken=6e9c6bcfcbf04f15b2e41c010fb37477; cp_token=c97434477ab94d67a794e1f5afc2e5b2; st_si=62861245262865; st_pvi=96395939431059; st_sp=2020-01-01%2007%3A07%3A58; st_inirUrl=https%3A%2F%2Flogin.1234567.com.cn%2Flogin; st_sn=1; st_psi=20200901212957108-119085303933-1918291356; st_asi=delete; fund_trade_cn=jkO8FJCY+mG7wZF5vJ2Y8K6hRIAd04h3nnfWj0ZAWVgQX0o1cPxMixQ3yOYVGIiXyxTmIVuJSLTZ7K+XQdcsMca/kEffS57sD7u+AyPF0uSuqya//LU=; fund_trade_name=ss9S8a3spiMGid2Ks2wZmlXVvJSyIETeypuvfIdgZ+ecv6dwCB/zBZs6LTgsYr4YS12vAmVy; fund_trade_visitor=sUVP5IZvZik5wyOwYkwBvApjo1My43SjJkzUfvlqcwhVX6kUlOqBw9s73zeYjcuYcpgUihe6; fund_trade_risk=slZckDQftiCCuwiblRwzkE8J3tXy9tCVZm9bfj5BxHkph6CynL9BOQsBx3F10AdYTqWFoq8R; fund_trade_gps=6; VipLevel=1; UTOKEN=s260bAQaj+HFitirC3KuVJucvZkawt/9/QTvX9MqR5y3ezKSJ0MQb+GofNQMSkb38NGNvO6hWQhlq4u1JGlXsKcPfoyLAWtobgYvQxEhCkCndF2hFx4=; LToken=67fd9b4bca1143fa9ff07d6efc74a563; fund_trade_trackid=CiAyAkAxgMbhTGglJLhUfGkJGlM8svNaURfrZ5hwleY2yA4+qQdueQ8aB0IvqeXewNeVb4Vi7qqOxpr2fgP2Xg==; ASP.NET_SessionId=gog0gc0fuw3kevkujpymtddy',\n",
    "            'Host': 'trade.1234567.com.cn',\n",
    "            'Origin': 'https://trade.1234567.com.cn',\n",
    "            'Referer': 'https://trade.1234567.com.cn/MyAssets/default',\n",
    "            'User-Agent': 'Mozilla/5.0 (Windows NT 10.0; Win64; x64) AppleWebKit/537.36 (KHTML, like Gecko) Chrome/70.0.3538.102 Safari/537.36 Edge/18.18363',\n",
    "            'X-Requested-With': 'XMLHttpRequest'}\n",
    "    \n",
    "# lsy_header = { 'Host': 'danjuanapp.com', \n",
    "#             'Connection': 'keep-alive', \n",
    "#             'Accept': 'application/json, text/plain, */*', \n",
    "#             'User-Agent': 'Mozilla/5.0 (Windows NT 10.0; Win64; x64) AppleWebKit/537.36 (KHTML, like Gecko) Chrome/84.0.4147.135 Safari/537.36', \n",
    "#             'elastic-apm-traceparent': '00-202f7df9c2a9ecacf8c83415b7f244ca-92066da89fd9ce82-01', \n",
    "#             'Sec-Fetch-Site': 'same-origin', \n",
    "#             'Sec-Fetch-Mode': 'cors', \n",
    "#             'Sec-Fetch-Dest': 'empty', \n",
    "#             'Referer': 'https://danjuanapp.com/', \n",
    "#             'Accept-Encoding': 'gzip, deflate, br', \n",
    "#             'Accept-Language': 'zh-CN,zh;q=0.9', \n",
    "#             'Cookie': 'device_id=web_r1ljD0fdkL; _ga=GA1.2.770250261.1577754217; gr_user_id=935b3292-a6c9-49b1-b521-b25bed96076d; thirdparty_token=; thirdparty_source=; thirdparty_nickname=; thirdparty_avatar=; Hm_lvt_b53ede02df3afea0608038748f4c9f36=1591594020; Hm_lpvt_b53ede02df3afea0608038748f4c9f36=1591686446; channel=1300100141; xq_a_token=01cd7758682a857c480534aafa9ea01f6881ae8a; acw_tc=2760776f15989390442294736ea5fbfa88af0b3a3bcbc26e5dc06b75fcdec8; accesstoken=240020000d5c0d98c8d155dc0f01df258eaa29e64bab7c51f; uid=194897199; u=194897199; refreshtoken=240020000045797513af13fe811715643b6bee2dac3206e7d; timestamp=1598939059944'}\n",
    "\n",
    "headers = klq_header\n",
    "# headers = lsy_header\n",
    "\n",
    "# 日期函数\n",
    "\n",
    "# 根据今天日期和起始日期,生成多个 90 天时间间隔的二维数组\n",
    "def getDateIntervals(startYear = 2016, startMonth = 5, startDay = 1, interval = 90):\n",
    "    dateIntervals = []\n",
    "    # 起始日期为开户日\n",
    "    startDate = datetime(year = startYear, month = startMonth, day = startDay)\n",
    "    # 间隔 90 天\n",
    "    interval_days = timedelta(days = interval)\n",
    "    # 和起始日间隔 90 天后的日期\n",
    "    endDate = startDate + interval_days\n",
    "    # 终止日期为今天\n",
    "    today = datetime.now()\n",
    "    # 字符串格式化\n",
    "    fmt = '%Y-%m-%d'\n",
    "    while max(today, endDate) == today:\n",
    "        # print(startDate.strftime(fmt), endDate.strftime(fmt))\n",
    "        dateIntervals.append({'startDate': startDate.strftime(fmt), 'endDate': endDate.strftime(fmt), 'duration': interval_days.days})\n",
    "        startDate = endDate + timedelta(days=1)\n",
    "        endDate = startDate + interval_days\n",
    "    # 最后一条不足 90 天的数据\n",
    "    startDate = endDate - interval_days\n",
    "    endDate = today\n",
    "    # print(startDate.strftime(fmt), endDate.strftime(fmt))\n",
    "    dateIntervals.append({'startDate': startDate.strftime(fmt), 'endDate': endDate.strftime(fmt), 'duration': (today - startDate).days})\n",
    "    return dateIntervals\n",
    "\n",
    "# 生成日期间隔\n",
    "dateIntervals = getDateIntervals()\n",
    "# dateIntervals = getDateIntervals(startYear = 2018, startMonth = 1, startDay = 1)\n",
    "dateIntervals"
   ]
  },
  {
   "cell_type": "code",
   "execution_count": 3,
   "metadata": {},
   "outputs": [],
   "source": [
    "# TODO 天天也有转托管 addition.json\n"
   ]
  },
  {
   "cell_type": "code",
   "execution_count": 13,
   "metadata": {},
   "outputs": [
    {
     "name": "stdout",
     "output_type": "stream",
     "text": [
      "18\n"
     ]
    },
    {
     "data": {
      "text/plain": [
       "[<Response [200]>,\n",
       " <Response [200]>,\n",
       " <Response [200]>,\n",
       " <Response [200]>,\n",
       " <Response [200]>,\n",
       " <Response [200]>,\n",
       " <Response [200]>,\n",
       " <Response [200]>,\n",
       " <Response [200]>,\n",
       " <Response [200]>,\n",
       " <Response [200]>,\n",
       " <Response [200]>,\n",
       " <Response [200]>,\n",
       " <Response [200]>,\n",
       " <Response [200]>,\n",
       " <Response [200]>,\n",
       " <Response [200]>,\n",
       " <Response [200]>]"
      ]
     },
     "execution_count": 13,
     "metadata": {},
     "output_type": "execute_result"
    }
   ],
   "source": [
    "trade_list_url = u'https://query.1234567.com.cn/Query/DelegateList?DataType=1&StartDate={0}&EndDate={1}&BusType=0&Statu=0&Account=&FundType=0&PageSize=500&PageIndex=1'\n",
    "urls = []\n",
    "for interval in dateIntervals:\n",
    "    urls.append(trade_list_url.format(interval['startDate'], interval['endDate']))\n",
    "# urls\n",
    "tasks = [grequests.get(x, headers=headers) for x in urls]\n",
    "response_list = grequests.map(tasks)\n",
    "print(len(response_list))\n",
    "response_list"
   ]
  },
  {
   "cell_type": "code",
   "execution_count": 26,
   "metadata": {},
   "outputs": [
    {
     "name": "stdout",
     "output_type": "stream",
     "text": [
      "4\n",
      "{'申请信息': {'applyDate': '2016-05-11', 'applyOperate': '买入申请', 'applyStatus': '已受理(支付完成)'}, '确认信息': {'fundName': '招商中证白酒指数分级', 'fundCode': '161725', 'confirmDate': '2016-05-12', 'confirmOperate': '申购确认', 'confirmStatus': '成功', 'confirmNavUnit': '0.8820', 'confirmNavAcc': '待实现', 'confirmMoney': '500.00', 'confirmVolume': '566.33', 'fee': '0.50'}, '详情页': 'https://query.1234567.com.cn/Query/Detail?id=fdb0dbf1fbd246dc88cfcab1547a1fcb&businType=22&traceNo='}\n",
      "{'申请信息': {'applyDate': '2016-05-13', 'applyOperate': '买入申请', 'applyStatus': '已受理(支付完成)'}, '确认信息': {'fundName': '广发美国房地产指数', 'fundCode': '000179', 'confirmDate': '2016-05-17', 'confirmOperate': '申购确认', 'confirmStatus': '成功', 'confirmNavUnit': '1.2420', 'confirmNavAcc': '待实现', 'confirmMoney': '500.00', 'confirmVolume': '402.05', 'fee': '0.65'}, '详情页': 'https://query.1234567.com.cn/Query/Detail?id=c568af353b7e40faa1cf583e1bc00c44&businType=22&traceNo='}\n",
      "{'申请信息': {'applyDate': '2016-05-24', 'applyOperate': '赎回申请', 'applyStatus': '已受理(无需支付)'}, '确认信息': {'fundName': '广发美国房地产指数', 'fundCode': '000179', 'confirmDate': '2016-05-26', 'confirmOperate': '赎回确认', 'confirmStatus': '成功', 'confirmNavUnit': '1.2270', 'confirmNavAcc': '待实现', 'confirmMoney': '490.85', 'confirmVolume': '402.05', 'fee': '2.47'}, '详情页': 'https://query.1234567.com.cn/Query/Detail?id=214341fbc30e4978bb325a639830accb&businType=24&traceNo='}\n",
      "{'申请信息': {'applyDate': '2016-05-27', 'applyOperate': '赎回申请', 'applyStatus': '已受理(无需支付)'}, '确认信息': {'fundName': '招商中证白酒指数分级', 'fundCode': '161725', 'confirmDate': '2016-05-30', 'confirmOperate': '赎回确认', 'confirmStatus': '成功', 'confirmNavUnit': '0.8440', 'confirmNavAcc': '待实现', 'confirmMoney': '475.59', 'confirmVolume': '566.33', 'fee': '2.39'}, '详情页': 'https://query.1234567.com.cn/Query/Detail?id=2362d357ea9743e4b12531160ce0593f&businType=24&traceNo='}\n"
     ]
    }
   ],
   "source": [
    "# 整合所有的交易列表，生成详情 url 集合\n",
    "def getDetailUrlsFromTradeList(htmlText):\n",
    "    detail_url_list = []\n",
    "    detail_url_prefix = u'https://query.1234567.com.cn'\n",
    "    soup = BeautifulSoup(htmlText, 'lxml')\n",
    "    results = soup.findAll(lambda e: e.name == 'a' and '详情' in e.text)\n",
    "    # 接口拿回来默认是时间倒叙的\n",
    "    results = list(reversed(results))\n",
    "    [detail_url_list.append(detail_url_prefix + x['href']) for x in results]\n",
    "    return detail_url_list\n",
    "\n",
    "# 获取详细交易数据的整合信息\n",
    "def getDetailInfo(htmlText, url):\n",
    "    soup = BeautifulSoup(htmlText, 'lxml')\n",
    "    results = soup.findAll('div',{'class':'ui-confirm'})\n",
    "\n",
    "    applyInfo_keys = ['applyDate','applyOperate','applyStatus']\n",
    "    confirmInfo_keys = ['fundName', 'fundCode', 'confirmDate', 'confirmOperate', 'confirmStatus', 'confirmNavUnit', 'confirmNavAcc', 'confirmMoney', 'confirmVolume', 'fee']\n",
    "\n",
    "    jsonData = {'申请信息': {}, '确认信息': {}, '详情页': url }\n",
    "    # 申请日期（拿累计净值）\n",
    "    applyDate = ''\n",
    "    for x in results:\n",
    "        h3_array = x.select('h3')\n",
    "        # 结果\n",
    "        values = []\n",
    "        if len(h3_array) > 0 and h3_array[0].text == u'申请信息':\n",
    "            if len(x.select('table')) > 0:\n",
    "                # 所有值\n",
    "                tags = x.select('table')[0].tbody.findAll('td')\n",
    "                # 不要“申请数额”\n",
    "                tags.pop(-2)\n",
    "                # 不要“标题<br/>代码”\n",
    "                tags.pop(1)\n",
    "                [values.append(x.text) for x in tags]\n",
    "                jsonData['申请信息'] = (dict(zip(applyInfo_keys, values)))\n",
    "                applyDate = jsonData['申请信息']['applyDate']\n",
    "        if len(h3_array) > 0 and h3_array[0].text == u'确认信息':\n",
    "            if len(x.select('table')) > 0:\n",
    "                # 所有值\n",
    "                tags = x.select('table')[0].tbody.findAll('td')\n",
    "                # “标题<br/>代码”\n",
    "                a = tags.pop(1).a\n",
    "                # 标题\n",
    "                values.append(a.contents[0])\n",
    "                # 代码\n",
    "                values.append(a.contents[2])\n",
    "                [values.append(x.text) for x in tags]\n",
    "                # 拿一下累计净值\n",
    "                values.insert(6, '待实现')\n",
    "                jsonData['确认信息'] = (dict(zip(confirmInfo_keys, values)))\n",
    "    return jsonData\n",
    "\n",
    "for response in response_list:\n",
    "    record_detail_urls = [x for x in getDetailUrlsFromTradeList(response.text)]\n",
    "    tasks = [grequests.get(x, headers=headers) for x in record_detail_urls]\n",
    "    record_detail_list = grequests.map(tasks)\n",
    "    print(len(record_detail_list))\n",
    "#     print(record_detail_list)\n",
    "    for resp in record_detail_list:\n",
    "        jsonData = getDetailInfo(resp.text, resp.request.url)\n",
    "        print(jsonData)\n",
    "    break"
   ]
  },
  {
   "cell_type": "code",
   "execution_count": null,
   "metadata": {},
   "outputs": [],
   "source": []
  }
 ],
 "metadata": {
  "kernelspec": {
   "display_name": "Python 3",
   "language": "python",
   "name": "python3"
  },
  "language_info": {
   "codemirror_mode": {
    "name": "ipython",
    "version": 3
   },
   "file_extension": ".py",
   "mimetype": "text/x-python",
   "name": "python",
   "nbconvert_exporter": "python",
   "pygments_lexer": "ipython3",
   "version": "3.7.3"
  }
 },
 "nbformat": 4,
 "nbformat_minor": 2
}
